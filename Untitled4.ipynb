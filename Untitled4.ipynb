{
  "nbformat": 4,
  "nbformat_minor": 0,
  "metadata": {
    "colab": {
      "provenance": []
    },
    "kernelspec": {
      "name": "python3",
      "display_name": "Python 3"
    },
    "language_info": {
      "name": "python"
    }
  },
  "cells": [
    {
      "cell_type": "code",
      "execution_count": 50,
      "metadata": {
        "id": "uudxWWoB75D9"
      },
      "outputs": [],
      "source": [
        "import pandas as pd\n",
        "import numpy as np\n",
        "from sklearn.cluster import KMeans, AgglomerativeClustering\n",
        "from sklearn.cluster import KMeans\n",
        "from sklearn.metrics import silhouette_score"
      ]
    },
    {
      "cell_type": "code",
      "source": [
        "df = pd.read_csv('/content/weight-height.csv')\n",
        "print(df)"
      ],
      "metadata": {
        "colab": {
          "base_uri": "https://localhost:8080/"
        },
        "id": "Jt8aTUTT8D3R",
        "outputId": "10a1203f-0b7e-4fe4-fde9-731206fa22db"
      },
      "execution_count": 18,
      "outputs": [
        {
          "output_type": "stream",
          "name": "stdout",
          "text": [
            "      Gender     Height      Weight\n",
            "0       Male  73.847017  241.893563\n",
            "1       Male  68.781904  162.310473\n",
            "2       Male  74.110105  212.740856\n",
            "3       Male  71.730978  220.042470\n",
            "4       Male  69.881796  206.349801\n",
            "...      ...        ...         ...\n",
            "9995  Female  66.172652  136.777454\n",
            "9996  Female  67.067155  170.867906\n",
            "9997  Female  63.867992  128.475319\n",
            "9998  Female  69.034243  163.852461\n",
            "9999  Female  61.944246  113.649103\n",
            "\n",
            "[10000 rows x 3 columns]\n"
          ]
        }
      ]
    },
    {
      "cell_type": "code",
      "source": [
        "df[\"Gender\"].value_counts()"
      ],
      "metadata": {
        "colab": {
          "base_uri": "https://localhost:8080/"
        },
        "id": "nMJ20Rdy8HZx",
        "outputId": "f74f3462-c4c5-41f8-fdbf-5e8d6d481d7d"
      },
      "execution_count": 19,
      "outputs": [
        {
          "output_type": "execute_result",
          "data": {
            "text/plain": [
              "Male      5000\n",
              "Female    5000\n",
              "Name: Gender, dtype: int64"
            ]
          },
          "metadata": {},
          "execution_count": 19
        }
      ]
    },
    {
      "cell_type": "code",
      "source": [
        "df[\"Gender\"] = df[\"Gender\"].astype('category')\n",
        "df[\"Gender_code\"] = df[\"Gender\"].cat.codes\n",
        "del df['Gender']\n",
        "print(df)"
      ],
      "metadata": {
        "colab": {
          "base_uri": "https://localhost:8080/"
        },
        "id": "8ZGDw6yG8Kdg",
        "outputId": "b05dd9be-f745-47f9-b792-ebee5daa6027"
      },
      "execution_count": 20,
      "outputs": [
        {
          "output_type": "stream",
          "name": "stdout",
          "text": [
            "         Height      Weight  Gender_code\n",
            "0     73.847017  241.893563            1\n",
            "1     68.781904  162.310473            1\n",
            "2     74.110105  212.740856            1\n",
            "3     71.730978  220.042470            1\n",
            "4     69.881796  206.349801            1\n",
            "...         ...         ...          ...\n",
            "9995  66.172652  136.777454            0\n",
            "9996  67.067155  170.867906            0\n",
            "9997  63.867992  128.475319            0\n",
            "9998  69.034243  163.852461            0\n",
            "9999  61.944246  113.649103            0\n",
            "\n",
            "[10000 rows x 3 columns]\n"
          ]
        }
      ]
    },
    {
      "cell_type": "code",
      "source": [
        "df.Height*0.45\n",
        "df.Weight*2.54\n",
        "print(df)"
      ],
      "metadata": {
        "colab": {
          "base_uri": "https://localhost:8080/"
        },
        "id": "1L5nzzFI8LP8",
        "outputId": "8270684d-ba6d-490e-e313-b7c060a7e8be"
      },
      "execution_count": 29,
      "outputs": [
        {
          "output_type": "stream",
          "name": "stdout",
          "text": [
            "         Height     Weight  Gender_code\n",
            "0     33.231158  95.233686            1\n",
            "1     30.951857  63.901761            1\n",
            "2     33.349547  83.756242            1\n",
            "3     32.278940  86.630894            1\n",
            "4     31.446808  81.240079            1\n",
            "...         ...        ...          ...\n",
            "9995  29.777693  53.849391            0\n",
            "9996  30.180220  67.270829            0\n",
            "9997  28.740596  50.580834            0\n",
            "9998  31.065409  64.508843            0\n",
            "9999  27.874911  44.743741            0\n",
            "\n",
            "[10000 rows x 3 columns]\n"
          ]
        }
      ]
    },
    {
      "cell_type": "code",
      "source": [
        "df_fem = df.iloc[5000:10000, : ]\n",
        "df_man = df.iloc[1:5000, : ]\n",
        "df_man.head(10)\n",
        "des_m = df_man.describe()\n",
        "des_f = df_fem.describe()\n",
        "print(des_m)\n",
        "print(des_f)\n",
        "df_man.plot.bar()\n",
        "df_fem.plot.bar()\n",
        "df.plot.bar()"
      ],
      "metadata": {
        "colab": {
          "base_uri": "https://localhost:8080/",
          "height": 1000
        },
        "id": "_W4jaGKk8SO_",
        "outputId": "7fed31de-e750-4667-8477-7712300216c3"
      },
      "execution_count": 28,
      "outputs": [
        {
          "output_type": "stream",
          "name": "stdout",
          "text": [
            "            Height       Weight  Gender_code\n",
            "count  4999.000000  4999.000000       4999.0\n",
            "mean     31.061422    73.625844          1.0\n",
            "std       1.288276     7.782637          0.0\n",
            "min      26.283107    44.449976          1.0\n",
            "25%      30.228590    68.459619          1.0\n",
            "50%      31.061925    73.633365          1.0\n",
            "75%      31.943584    78.880529          1.0\n",
            "max      35.549434   106.295157          1.0\n",
            "            Height       Weight  Gender_code\n",
            "count  5000.000000  5000.000000       5000.0\n",
            "mean     28.668948    53.488226          0.0\n",
            "std       1.213328     7.489161          0.0\n",
            "min      24.418410    25.472491          0.0\n",
            "25%      27.852499    48.399250          0.0\n",
            "50%      28.678916    53.589600          0.0\n",
            "75%      29.503604    58.586979          0.0\n",
            "max      33.025314    79.620950          0.0\n"
          ]
        },
        {
          "output_type": "execute_result",
          "data": {
            "text/plain": [
              "<Axes: >"
            ]
          },
          "metadata": {},
          "execution_count": 28
        },
        {
          "output_type": "display_data",
          "data": {
            "text/plain": [
              "<Figure size 640x480 with 1 Axes>"
            ],
            "image/png": "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\n"
          },
          "metadata": {}
        },
        {
          "output_type": "display_data",
          "data": {
            "text/plain": [
              "<Figure size 640x480 with 1 Axes>"
            ],
            "image/png": "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\n"
          },
          "metadata": {}
        },
        {
          "output_type": "display_data",
          "data": {
            "text/plain": [
              "<Figure size 640x480 with 1 Axes>"
            ],
            "image/png": "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\n"
          },
          "metadata": {}
        }
      ]
    },
    {
      "cell_type": "code",
      "source": [
        "kmeans = KMeans(n_clusters=2)\n",
        "kmeans.fit(df[['Height', 'Weight']])\n",
        "df['KMeans_Cluster'] = kmeans.labels_\n",
        "print(df)"
      ],
      "metadata": {
        "colab": {
          "base_uri": "https://localhost:8080/"
        },
        "id": "LgDoksgOBWX_",
        "outputId": "f4603140-200e-49a7-82d3-743e0d4534ad"
      },
      "execution_count": 46,
      "outputs": [
        {
          "output_type": "stream",
          "name": "stderr",
          "text": [
            "/usr/local/lib/python3.10/dist-packages/sklearn/cluster/_kmeans.py:870: FutureWarning: The default value of `n_init` will change from 10 to 'auto' in 1.4. Set the value of `n_init` explicitly to suppress the warning\n",
            "  warnings.warn(\n"
          ]
        },
        {
          "output_type": "stream",
          "name": "stdout",
          "text": [
            "         Height     Weight  Gender_code  KMeans_Cluster  Agglomerative_Cluster\n",
            "0     33.231158  95.233686            1               1                      1\n",
            "1     30.951857  63.901761            1               1                      0\n",
            "2     33.349547  83.756242            1               1                      1\n",
            "3     32.278940  86.630894            1               1                      1\n",
            "4     31.446808  81.240079            1               1                      1\n",
            "...         ...        ...          ...             ...                    ...\n",
            "9995  29.777693  53.849391            0               0                      0\n",
            "9996  30.180220  67.270829            0               1                      1\n",
            "9997  28.740596  50.580834            0               0                      0\n",
            "9998  31.065409  64.508843            0               1                      0\n",
            "9999  27.874911  44.743741            0               0                      0\n",
            "\n",
            "[10000 rows x 5 columns]\n"
          ]
        }
      ]
    },
    {
      "cell_type": "code",
      "source": [
        "agglomerative = AgglomerativeClustering(n_clusters=2)\n",
        "agglomerative.fit(df[['Height', 'Weight']])\n",
        "df['Agglomerative_Cluster'] = agglomerative.labels_\n",
        "print(df)\n"
      ],
      "metadata": {
        "colab": {
          "base_uri": "https://localhost:8080/"
        },
        "id": "d_5I-UHwK-TQ",
        "outputId": "ef705af5-05c8-4d90-ad24-d6f100304ab7"
      },
      "execution_count": 45,
      "outputs": [
        {
          "output_type": "stream",
          "name": "stdout",
          "text": [
            "         Height     Weight  Gender_code  KMeans_Cluster  Agglomerative_Cluster\n",
            "0     33.231158  95.233686            1               1                      1\n",
            "1     30.951857  63.901761            1               1                      0\n",
            "2     33.349547  83.756242            1               1                      1\n",
            "3     32.278940  86.630894            1               1                      1\n",
            "4     31.446808  81.240079            1               1                      1\n",
            "...         ...        ...          ...             ...                    ...\n",
            "9995  29.777693  53.849391            0               0                      0\n",
            "9996  30.180220  67.270829            0               1                      1\n",
            "9997  28.740596  50.580834            0               0                      0\n",
            "9998  31.065409  64.508843            0               1                      0\n",
            "9999  27.874911  44.743741            0               0                      0\n",
            "\n",
            "[10000 rows x 5 columns]\n"
          ]
        }
      ]
    },
    {
      "cell_type": "code",
      "source": [
       from sklearn.metrics import precision_score
w =df["KMeans_Cluster"].values.ravel()

y=df['Gender'].values.ravel()
precision_score(w, y)
      ],
      "metadata": {
        "colab": {
          "base_uri": "https://localhost:8080/"
        },
        "id": "5qkp-5gmLTpP",
        "outputId": "9ca74c0f-6911-45a6-88c0-4a1ee97efeb7"
      },
      "execution_count": 51,
      "outputs": [
        {
          "output_type": "stream",
          "name": "stdout",
          "text": [
            "KMeans оценка: 0.6098483347391037\n",
            "Agglomerative оценка: 0.6074779223758271\n"
          ]
        }
      ]
    }
  ]
}
